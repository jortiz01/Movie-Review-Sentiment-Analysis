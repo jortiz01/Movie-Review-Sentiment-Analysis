{
  "nbformat": 4,
  "nbformat_minor": 0,
  "metadata": {
    "colab": {
      "provenance": [],
      "collapsed_sections": []
    },
    "kernelspec": {
      "name": "python3",
      "display_name": "Python 3"
    },
    "language_info": {
      "name": "python"
    }
  },
  "cells": [
    {
      "cell_type": "markdown",
      "source": [
        "# Sentiment Analysis of Movie Reviews\n",
        "\n",
        "Jonathan Ortiz"
      ],
      "metadata": {
        "id": "K8ZmNRKtt85l"
      }
    },
    {
      "cell_type": "markdown",
      "source": [
        "#Imports and Data Upload"
      ],
      "metadata": {
        "id": "T7gnH1xFkutL"
      }
    },
    {
      "cell_type": "code",
      "execution_count": 1,
      "metadata": {
        "id": "vK5gqVBMUHC9"
      },
      "outputs": [],
      "source": [
        "import numpy as np\n",
        "import pandas as pd\n",
        "import seaborn as sns\n",
        "import matplotlib.pyplot as plt\n",
        "from sklearn import preprocessing, svm\n",
        "from sklearn.model_selection import train_test_split\n",
        "from sklearn.linear_model import LinearRegression\n",
        "from sklearn.naive_bayes import GaussianNB\n",
        "from sklearn.feature_extraction.text import CountVectorizer\n",
        "from nltk.tokenize import RegexpTokenizer\n",
        "from sklearn.feature_extraction.text import TfidfTransformer\n"
      ]
    },
    {
      "cell_type": "code",
      "source": [
        "!pip install -U -q PyDrive\n",
        " \n",
        "from pydrive.auth import GoogleAuth\n",
        "from pydrive.drive import GoogleDrive\n",
        "from google.colab import auth\n",
        "from oauth2client.client import GoogleCredentials\n",
        " \n",
        " \n",
        "# Authenticate and create the PyDrive client.\n",
        "auth.authenticate_user()\n",
        "gauth = GoogleAuth()\n",
        "gauth.credentials = GoogleCredentials.get_application_default()\n",
        "drive = GoogleDrive(gauth)"
      ],
      "metadata": {
        "id": "o9GSAuvDVvVG"
      },
      "execution_count": null,
      "outputs": []
    },
    {
      "cell_type": "code",
      "source": [
        "train = 'https://drive.google.com/file/d/1La56QDc3XPPvNJixmSqlxC4NrUMq0e_O/view?usp=sharing'\n",
        "test = 'https://drive.google.com/file/d/1N62Qwif5BuEsW5iKzlh2JSoar8vSomyf/view?usp=sharing'"
      ],
      "metadata": {
        "id": "srioMw4cXh1y"
      },
      "execution_count": null,
      "outputs": []
    },
    {
      "cell_type": "code",
      "source": [
        "id = train.split(\"/\")[-2]\n",
        " \n",
        "downloaded = drive.CreateFile({'id':id})\n",
        "downloaded.GetContentFile('train.csv') \n",
        " \n",
        "train = pd.read_csv('train.csv')\n",
        "print(train)"
      ],
      "metadata": {
        "id": "048-WiCEX-oT"
      },
      "execution_count": null,
      "outputs": []
    },
    {
      "cell_type": "code",
      "source": [
        "id = test.split(\"/\")[-2]\n",
        " \n",
        "downloaded = drive.CreateFile({'id':id})\n",
        "downloaded.GetContentFile('test.csv') \n",
        " \n",
        "test = pd.read_csv('test.csv')\n",
        "print(test)"
      ],
      "metadata": {
        "id": "ZAsZGSckYVZT"
      },
      "execution_count": null,
      "outputs": []
    },
    {
      "cell_type": "code",
      "source": [
        "test.head()"
      ],
      "metadata": {
        "id": "DYvHjLWjYhQx"
      },
      "execution_count": null,
      "outputs": []
    },
    {
      "cell_type": "code",
      "source": [
        "train.head()"
      ],
      "metadata": {
        "id": "wzk-z8n0Zw1X"
      },
      "execution_count": null,
      "outputs": []
    },
    {
      "cell_type": "markdown",
      "source": [
        "Tokenizing each word vectorizing unigram counts."
      ],
      "metadata": {
        "id": "-G7dCaSnTeZp"
      }
    },
    {
      "cell_type": "markdown",
      "source": [
        "#Unigram"
      ],
      "metadata": {
        "id": "w5u8FAvzkcKT"
      }
    },
    {
      "cell_type": "code",
      "source": [
        "#Create vectors using ngram_range(1,1) to specify unigrams\n",
        "\n",
        "token = RegexpTokenizer(r'[a-sA-Z0-9]+')\n",
        "cv = CountVectorizer(ngram_range=(1,1), tokenizer = token.tokenize)\n",
        "train_counts = cv.fit_transform(train['text'])\n",
        "test_counts = cv.fit_transform(test['text'])\n",
        "\n",
        "#[:5000]"
      ],
      "metadata": {
        "id": "EubpKyefZz2f"
      },
      "execution_count": null,
      "outputs": []
    },
    {
      "cell_type": "code",
      "source": [
        "train_counts.shape"
      ],
      "metadata": {
        "id": "0IVfMenqKRFQ"
      },
      "execution_count": null,
      "outputs": []
    },
    {
      "cell_type": "code",
      "source": [
        "test_counts.shape"
      ],
      "metadata": {
        "id": "UaCpq39gM0OA"
      },
      "execution_count": null,
      "outputs": []
    },
    {
      "cell_type": "code",
      "source": [
        "train.label.shape"
      ],
      "metadata": {
        "id": "kidcUwCeMQuw"
      },
      "execution_count": null,
      "outputs": []
    },
    {
      "cell_type": "code",
      "source": [
        "#Switching the frequency unigram counts in the vectors to Tf-idf values\n",
        "\n",
        "tfidf_transformer = TfidfTransformer()\n",
        "train_tfidf = tfidf_transformer.fit_transform(train_counts)\n",
        "test_tfidf = tfidf_transformer.fit_transform(test_counts)"
      ],
      "metadata": {
        "id": "xdQT9RiJKZyE"
      },
      "execution_count": null,
      "outputs": []
    },
    {
      "cell_type": "code",
      "source": [
        "train_tfidf.shape"
      ],
      "metadata": {
        "id": "N_pXE3zhMsM4"
      },
      "execution_count": null,
      "outputs": []
    },
    {
      "cell_type": "code",
      "source": [
        "test_tfidf.shape"
      ],
      "metadata": {
        "id": "E-67YLAgMvTY"
      },
      "execution_count": null,
      "outputs": []
    },
    {
      "cell_type": "code",
      "source": [
        "#Splitting the data into parameters to be passed into the prediction model later\n",
        "\n",
        "from sklearn.model_selection import train_test_split\n",
        "x_train, x_test, y_train, y_test = train_test_split(\n",
        "    train_tfidf, train.label, test_size = 0.20, random_state = 2)"
      ],
      "metadata": {
        "id": "KKdGwCYNNXB3"
      },
      "execution_count": null,
      "outputs": []
    },
    {
      "cell_type": "markdown",
      "source": [
        "Compile model, import SKLearn's Multinomial Naive Bayes"
      ],
      "metadata": {
        "id": "swOWOeIfN2pQ"
      }
    },
    {
      "cell_type": "code",
      "source": [
        "from sklearn.naive_bayes import MultinomialNB"
      ],
      "metadata": {
        "id": "vdWnpOV5Ml43"
      },
      "execution_count": null,
      "outputs": []
    },
    {
      "cell_type": "code",
      "source": [
        "#Fitting the model\n",
        "\n",
        "MNB = MultinomialNB()\n",
        "MNB.fit(x_train, y_train)"
      ],
      "metadata": {
        "id": "I8uRagDuOI6j"
      },
      "execution_count": null,
      "outputs": []
    },
    {
      "cell_type": "code",
      "source": [
        "#Evaluate the model by quantifying its quality.\n",
        "\n",
        "from sklearn import metrics\n",
        "predicted = MNB.predict(x_test)\n",
        "accuracy_score = metrics.accuracy_score(predicted, y_test)"
      ],
      "metadata": {
        "id": "e4A3txVMO0xe"
      },
      "execution_count": null,
      "outputs": []
    },
    {
      "cell_type": "code",
      "source": [
        "print(str('{:04.2f}'.format(accuracy_score*100))+'%')"
      ],
      "metadata": {
        "id": "yRMXbYX-PJdn"
      },
      "execution_count": null,
      "outputs": []
    },
    {
      "cell_type": "markdown",
      "source": [
        "Utilizing MultinomialNB Classifier with the TF-IDF values, the accuracy score for the trained model was 84.99%. \n",
        "\n",
        "Will now go back to vectors of frequency counts to see the accuracy differency frrom the TF-IDF values."
      ],
      "metadata": {
        "id": "yECFPTX6QWBg"
      }
    },
    {
      "cell_type": "code",
      "source": [
        "x_train, x_test, y_train, y_test = train_test_split(\n",
        "    train_counts, train.label, test_size = 0.20, random_state = 2)"
      ],
      "metadata": {
        "id": "iZYq2aSVbTsx"
      },
      "execution_count": null,
      "outputs": []
    },
    {
      "cell_type": "code",
      "source": [
        "MNB = MultinomialNB()\n",
        "MNB.fit(x_train, y_train)"
      ],
      "metadata": {
        "id": "XOOItyQBbani"
      },
      "execution_count": null,
      "outputs": []
    },
    {
      "cell_type": "code",
      "source": [
        "predicted = MNB.predict(x_test)\n",
        "accuracy_score = metrics.accuracy_score(predicted, y_test)\n",
        "print(str('{:04.2f}'.format(accuracy_score*100))+'%')"
      ],
      "metadata": {
        "id": "RaOnHCZXbcn5"
      },
      "execution_count": null,
      "outputs": []
    },
    {
      "cell_type": "markdown",
      "source": [
        "The accuracy slightly decreased to 83.21% when using unigram frequency rather then TF-IDF values."
      ],
      "metadata": {
        "id": "5pZO1BBEbyfx"
      }
    },
    {
      "cell_type": "markdown",
      "source": [
        "Using a different Naive Bayes Classifier to compare accuracy on the unigram TF-IDF values.\n",
        "\n",
        "Refill parameters to have TF-IDF values:"
      ],
      "metadata": {
        "id": "LCci-pbthEC6"
      }
    },
    {
      "cell_type": "code",
      "source": [
        "x_train, x_test, y_train, y_test = train_test_split(\n",
        "    train_tfidf, train.label, test_size = 0.20, random_state = 2)\n",
        "\n"
      ],
      "metadata": {
        "id": "D35rFeAQhPYp"
      },
      "execution_count": null,
      "outputs": []
    },
    {
      "cell_type": "markdown",
      "source": [
        "Using Complement Naive Bayes.\n",
        "\n",
        "Instead of predicting whether an item belongs to a certain class, Complement Naive Bayes predicts the probability of the item belonging to all classes."
      ],
      "metadata": {
        "id": "OlrhPDs6iIjZ"
      }
    },
    {
      "cell_type": "code",
      "source": [
        "from sklearn.naive_bayes import ComplementNB"
      ],
      "metadata": {
        "id": "G11G9ZCBikgq"
      },
      "execution_count": null,
      "outputs": []
    },
    {
      "cell_type": "code",
      "source": [
        "#Fit TF-IDF Vectors into CNB Model\n",
        "\n",
        "CNB = ComplementNB()\n",
        "CNB.fit(x_train, y_train)"
      ],
      "metadata": {
        "id": "W4tN0sfmjDEx"
      },
      "execution_count": null,
      "outputs": []
    },
    {
      "cell_type": "code",
      "source": [
        "#Evaluate model quality by quantifying the accuracy\n",
        "\n",
        "accuracy_score = metrics.accuracy_score(CNB.predict(x_test), y_test)\n",
        "print(str('{:04.2f}'.format(accuracy_score*100))+'%')"
      ],
      "metadata": {
        "id": "Qz3wL2LcjMky"
      },
      "execution_count": null,
      "outputs": []
    },
    {
      "cell_type": "markdown",
      "source": [
        "Using Unigram TF-IDF Complement Naive Bayes produced an 85.81% Accuracy Score"
      ],
      "metadata": {
        "id": "RzTGjysxjwOL"
      }
    },
    {
      "cell_type": "markdown",
      "source": [
        "#Bigrams"
      ],
      "metadata": {
        "id": "bmt0ruJpkY5i"
      }
    },
    {
      "cell_type": "code",
      "source": [
        "#Switching ngram_range=(2,2) to specify Bigrams\n",
        "\n",
        "cv = CountVectorizer(ngram_range=(2,2), tokenizer = token.tokenize)\n",
        "train_counts = cv.fit_transform(train['text'])\n",
        "test_counts = cv.fit_transform(test['text'])"
      ],
      "metadata": {
        "id": "9MJUbftAh20c"
      },
      "execution_count": null,
      "outputs": []
    },
    {
      "cell_type": "code",
      "source": [
        "#Split into passable parameters to pass to model\n",
        "\n",
        "x_train, x_test, y_train, y_test = train_test_split(\n",
        "    train_counts, train.label, test_size = 0.20, random_state = 2)"
      ],
      "metadata": {
        "id": "rvXLGOMIlO9a"
      },
      "execution_count": null,
      "outputs": []
    },
    {
      "cell_type": "markdown",
      "source": [
        "Passing bigrams into MultinominalNB first using just bigram frequency vectors."
      ],
      "metadata": {
        "id": "ysvclbUJl7qa"
      }
    },
    {
      "cell_type": "code",
      "source": [
        "#Fitting the Model\n",
        "\n",
        "MNB = MultinomialNB()\n",
        "MNB.fit(x_train, y_train)"
      ],
      "metadata": {
        "id": "geVBCHoKltNk"
      },
      "execution_count": null,
      "outputs": []
    },
    {
      "cell_type": "code",
      "source": [
        "predicted = MNB.predict(x_test)\n",
        "accuracy_score = metrics.accuracy_score(predicted, y_test)\n",
        "print(str('{:04.2f}'.format(accuracy_score*100))+'%')"
      ],
      "metadata": {
        "id": "MbBbLc4Ol6nK"
      },
      "execution_count": null,
      "outputs": []
    },
    {
      "cell_type": "markdown",
      "source": [
        "Using Bigrams with MultinomialNB the accuracy of the classifier is 87.40%. Previously using Unigrams frequency counts the accuracy was 83.45%. There was rougly a 4% increase in accuracy when using Bigrams over Unigrams in this instance (frequency rather then TF-IDF)."
      ],
      "metadata": {
        "id": "H7uViZCpmge7"
      }
    },
    {
      "cell_type": "code",
      "source": [
        "tfidf_transformer = TfidfTransformer()\n",
        "train_tfidf = tfidf_transformer.fit_transform(train_counts)\n",
        "test_tfidf = tfidf_transformer.fit_transform(test_counts)"
      ],
      "metadata": {
        "id": "fjWoeDE8lNCk"
      },
      "execution_count": null,
      "outputs": []
    },
    {
      "cell_type": "code",
      "source": [
        "x_train, x_test, y_train, y_test = train_test_split(\n",
        "    train_tfidf, train.label, test_size = 0.20, random_state = 2)"
      ],
      "metadata": {
        "id": "QRIobcfDnK8y"
      },
      "execution_count": null,
      "outputs": []
    },
    {
      "cell_type": "code",
      "source": [
        "MNB = MultinomialNB()\n",
        "MNB.fit(x_train, y_train)"
      ],
      "metadata": {
        "id": "E05iKejRnUZ6"
      },
      "execution_count": null,
      "outputs": []
    },
    {
      "cell_type": "code",
      "source": [
        "predicted = MNB.predict(x_test)\n",
        "accuracy_score = metrics.accuracy_score(predicted, y_test)\n",
        "print(str('{:04.2f}'.format(accuracy_score*100))+'%')"
      ],
      "metadata": {
        "id": "PdDy9eVDnWQS"
      },
      "execution_count": null,
      "outputs": []
    },
    {
      "cell_type": "markdown",
      "source": [
        "When using TF-IDF from the bigrams with the MNB the accuracy is 88.36%. This is an increase from the 87.40% from the frequency counts and an increase from the 84.99% from the Unigram TF-IDF MNB score.\n",
        "\n",
        "Next the CNB on the bigrams:"
      ],
      "metadata": {
        "id": "hTXpoulQnaoi"
      }
    },
    {
      "cell_type": "code",
      "source": [
        "#Fit CNB model with tf-idf vectors\n",
        "\n",
        "CNB = ComplementNB()\n",
        "CNB.fit(x_train, y_train)"
      ],
      "metadata": {
        "id": "QwUbGrBAoKOj"
      },
      "execution_count": null,
      "outputs": []
    },
    {
      "cell_type": "code",
      "source": [
        "#Evaluate accuracy\n",
        "\n",
        "accuracy_score = metrics.accuracy_score(CNB.predict(x_test), y_test)\n",
        "print(str('{:04.2f}'.format(accuracy_score*100))+'%')"
      ],
      "metadata": {
        "id": "VAdl6wH4oTl7"
      },
      "execution_count": null,
      "outputs": []
    },
    {
      "cell_type": "code",
      "source": [
        "#Switch data to counts, not tf-idf\n",
        "\n",
        "x_train, x_test, y_train, y_test = train_test_split(\n",
        "    train_counts, train.label, test_size = 0.20, random_state = 2)\n",
        "\n",
        "CNB = ComplementNB()\n",
        "CNB.fit(x_train, y_train)\n",
        "\n",
        "accuracy_score = metrics.accuracy_score(CNB.predict(x_test), y_test)\n",
        "print(str('{:04.2f}'.format(accuracy_score*100))+'%')"
      ],
      "metadata": {
        "id": "9kepVxQHoWei"
      },
      "execution_count": null,
      "outputs": []
    },
    {
      "cell_type": "markdown",
      "source": [
        "With the Complement NB algorithm, TF-IDF Bigrams scored 88.39% while Bigram Frequency Counts scored slightly lower at 87.48% Accuracy at predicting the proper class"
      ],
      "metadata": {
        "id": "sAYzTXKtoiYK"
      }
    },
    {
      "cell_type": "markdown",
      "source": [
        "#Other Classifiers (LinearSVC and SGDC) with Bigrams\n",
        "\n",
        "Linear Support Vector attempts to find a hyperplane which divides the data in order to predict/classify the items"
      ],
      "metadata": {
        "id": "kCdYgvOFqxeK"
      }
    },
    {
      "cell_type": "code",
      "source": [
        "from sklearn.svm import LinearSVC\n",
        "from sklearn.linear_model import LogisticRegression, SGDClassifier"
      ],
      "metadata": {
        "id": "xKJVuFndptaq"
      },
      "execution_count": null,
      "outputs": []
    },
    {
      "cell_type": "code",
      "source": [
        "LSVC = LinearSVC()\n",
        "SGDC = SGDClassifier()"
      ],
      "metadata": {
        "id": "oE2i4o14p6Ny"
      },
      "execution_count": null,
      "outputs": []
    },
    {
      "cell_type": "markdown",
      "source": [
        "Realized every time I switched between tf-idf and counts I kept resampling the test/train data. The variables should have been set and not changed throughout. I have now switched to x,X and y,Y to differentiate between counts vs tf-idf"
      ],
      "metadata": {
        "id": "SFfCFw5dYhqR"
      }
    },
    {
      "cell_type": "code",
      "source": [
        "x_train, x_test, y_train, y_test = train_test_split(\n",
        "    train_tfidf, train.label, test_size = 0.20, random_state = 2)"
      ],
      "metadata": {
        "id": "4WYwxA7qpiGj"
      },
      "execution_count": null,
      "outputs": []
    },
    {
      "cell_type": "code",
      "source": [
        "X_train, X_test, Y_train, Y_test = train_test_split(\n",
        "    train_counts, train.label, test_size = 0.20, random_state = 2)"
      ],
      "metadata": {
        "id": "m7wt8U6srIe8"
      },
      "execution_count": null,
      "outputs": []
    },
    {
      "cell_type": "code",
      "source": [
        "LSVC.fit(x_train, y_train)\n",
        "accuracy_score_lsvc = metrics.accuracy_score(LSVC.predict(x_test), y_test)\n",
        "print(str('{:04.2f}'.format(accuracy_score_lsvc*100))+'%')"
      ],
      "metadata": {
        "id": "rrl7wi8dpmZD"
      },
      "execution_count": null,
      "outputs": []
    },
    {
      "cell_type": "code",
      "source": [
        "LSVC.fit(X_train, Y_train)\n",
        "accuracy_score = metrics.accuracy_score(LSVC.predict(X_test), Y_test)\n",
        "print(str('{:04.2f}'.format(accuracy_score*100))+'%')"
      ],
      "metadata": {
        "id": "a8zrKEUpq8Jy"
      },
      "execution_count": null,
      "outputs": []
    },
    {
      "cell_type": "markdown",
      "source": [
        "Utilizing LinearSVC with Bigrams:\n",
        "\n",
        "TF-IDF : 91.06% Accuracy\n",
        "\n",
        "Counts : 89.21% Accuracy"
      ],
      "metadata": {
        "id": "LnWErhl0sIx9"
      }
    },
    {
      "cell_type": "markdown",
      "source": [
        "SGDC is a linear classifier which utilizes the minimal cost function to predict classes"
      ],
      "metadata": {
        "id": "q6ifNY3KtN8z"
      }
    },
    {
      "cell_type": "code",
      "source": [
        "SGDC.fit(x_train, y_train)\n",
        "accuracy_score = metrics.accuracy_score(SGDC.predict(x_test), y_test)\n",
        "print(str('{:04.2f}'.format(accuracy_score*100))+'%')"
      ],
      "metadata": {
        "id": "LM2yCYWpsu7D"
      },
      "execution_count": null,
      "outputs": []
    },
    {
      "cell_type": "code",
      "source": [
        "SGDC.fit(X_train, Y_train)\n",
        "accuracy_score = metrics.accuracy_score(SGDC.predict(X_test), Y_test)\n",
        "print(str('{:04.2f}'.format(accuracy_score*100))+'%')"
      ],
      "metadata": {
        "id": "DTkAVmjUtCJU"
      },
      "execution_count": null,
      "outputs": []
    },
    {
      "cell_type": "markdown",
      "source": [
        "SGDC with Bigrams:\n",
        "\n",
        "TF-IDF : 89.98%\n",
        "\n",
        "Counts : 89.21%"
      ],
      "metadata": {
        "id": "Uc9g1phAttxL"
      }
    }
  ]
}